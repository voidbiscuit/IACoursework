{
 "cells": [
  {
   "cell_type": "code",
   "execution_count": 1,
   "metadata": {
    "collapsed": true
   },
   "outputs": [],
   "source": [
    "\n",
    "from PIL import Image\n",
    "import matplotlib.pyplot as plt\n",
    "import numpy as np\n",
    "import cv2\n",
    "import random\n"
   ]
  },
  {
   "cell_type": "code",
   "execution_count": 2,
   "metadata": {},
   "outputs": [
    {
     "name": "stdout",
     "output_type": "stream",
     "text": [
      "Original : [ 1  9 18]\n"
     ]
    }
   ],
   "source": [
    "# Files\n",
    "dir = \"data/\"\n",
    "image = \"image.png\"\n",
    "qmatrix = \"qmatrix.png\"\n",
    "\n",
    "# Data\n",
    "original = Image.open(dir + image, 'r')\n",
    "original_qmatrix = Image.open(dir + qmatrix, 'r')\n",
    "\n",
    "# Metadata\n",
    "width, height = original.size\n",
    "\n",
    "# Load and Show Picture\n",
    "image = original\n",
    "\n",
    "def show_image(image_title):\n",
    "    plt.imshow(image)\n",
    "    plt.title(image_title)\n",
    "    plt.show()\n",
    "    print(image_title + \" : \" + str((np.asarray(image)[0, 0])))\n",
    "    \n",
    "    \n",
    "show_image('Original') # Mark 1\n"
   ]
  },
  {
   "cell_type": "code",
   "execution_count": 3,
   "metadata": {
    "collapsed": false
   },
   "outputs": [
    {
     "name": "stderr",
     "output_type": "stream",
     "text": [
      "Clipping input data to the valid range for imshow with RGB data ([0..1] for floats or [0..255] for integers).\n"
     ]
    },
    {
     "name": "stdout",
     "output_type": "stream",
     "text": [
      "test : [3.5347693 0.        0.       ]\n"
     ]
    },
    {
     "name": "stderr",
     "output_type": "stream",
     "text": [
      "Clipping input data to the valid range for imshow with RGB data ([0..1] for floats or [0..255] for integers).\n"
     ]
    },
    {
     "name": "stdout",
     "output_type": "stream",
     "text": [
      "DCT : [0.85723318 0.25843781 0.22251209]\n"
     ]
    }
   ],
   "source": [
    "image = np.asarray(original, \"int32\") / 255\n",
    "def dodct(r, g, b):\n",
    "    return [cv2.dct(r),\n",
    "            cv2.dct(g),\n",
    "            cv2.dct(b)]\n",
    "\n",
    "def doidct(r, g, b):\n",
    "    return [cv2.idct(r),\n",
    "            cv2.idct(g),\n",
    "            cv2.idct(b)]\n",
    "\n",
    "r, g, b = cv2.split(image)\n",
    "\n",
    "image = dodct(r, g, b)\n",
    "image = np.reshape(image, [height, width, 3])\n",
    "\n",
    "qmatrix = np.asarray(original_qmatrix, \"int32\")\n",
    "blocksize = 8\n",
    "\n",
    "def blockfunction(block):\n",
    "    block[:, :, 0] = np.float32(np.divide(block[:, :, 0], qmatrix[:, :]))\n",
    "    block[:, :, 1] = np.float32(np.divide(block[:, :, 1], qmatrix[:, :]))\n",
    "    block[:, :, 2] = np.float32(np.divide(block[:, :, 2], qmatrix[:, :]))\n",
    "    return block\n",
    "\n",
    "\n",
    "# Loop every block 8x8\n",
    "for x in range(0, width, blocksize):\n",
    "    x_end = x + blocksize if x + blocksize < width else width\n",
    "    for y in range(0, height, blocksize):\n",
    "        y_end = y + blocksize if y + blocksize < height else height\n",
    "        block = image[y:y_end, x:x_end]\n",
    "        block = blockfunction(block)\n",
    "        np.clip(block, 0, 255, block)\n",
    "show_image('test')\n",
    "image = np.reshape(image, [3, height * width])\n",
    "r, g, b = image\n",
    "image = doidct(r, g, b)\n",
    "image = np.reshape(image, [height, width, 3])\n",
    "show_image('DCT')\n"
   ]
  },
  {
   "cell_type": "code",
   "execution_count": 4,
   "metadata": {},
   "outputs": [],
   "source": [
    ""
   ]
  },
  {
   "cell_type": "code",
   "execution_count": 4,
   "metadata": {},
   "outputs": [],
   "source": []
  }
 ],
 "metadata": {
  "kernelspec": {
   "display_name": "Python 2",
   "language": "python",
   "name": "python2"
  },
  "language_info": {
   "codemirror_mode": {
    "name": "ipython",
    "version": 2
   },
   "file_extension": ".py",
   "mimetype": "text/x-python",
   "name": "python",
   "nbconvert_exporter": "python",
   "pygments_lexer": "ipython2",
   "version": "2.7.6"
  }
 },
 "nbformat": 4,
 "nbformat_minor": 0
}
